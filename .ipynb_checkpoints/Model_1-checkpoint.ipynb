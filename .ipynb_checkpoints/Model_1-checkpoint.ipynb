{
 "cells": [
  {
   "cell_type": "code",
   "execution_count": 86,
   "metadata": {},
   "outputs": [],
   "source": [
    "%matplotlib inline\n",
    "import matplotlib.pyplot as plt\n",
    "import numpy as np\n",
    "import pandas as pd\n"
   ]
  },
  {
   "cell_type": "markdown",
   "metadata": {},
   "source": [
    "# Multiple Linear Regression"
   ]
  },
  {
   "cell_type": "code",
   "execution_count": 87,
   "metadata": {},
   "outputs": [
    {
     "data": {
      "text/html": [
       "<div>\n",
       "<style scoped>\n",
       "    .dataframe tbody tr th:only-of-type {\n",
       "        vertical-align: middle;\n",
       "    }\n",
       "\n",
       "    .dataframe tbody tr th {\n",
       "        vertical-align: top;\n",
       "    }\n",
       "\n",
       "    .dataframe thead th {\n",
       "        text-align: right;\n",
       "    }\n",
       "</style>\n",
       "<table border=\"1\" class=\"dataframe\">\n",
       "  <thead>\n",
       "    <tr style=\"text-align: right;\">\n",
       "      <th></th>\n",
       "      <th>None</th>\n",
       "      <th>High_School</th>\n",
       "      <th>Associates</th>\n",
       "      <th>Bachelors</th>\n",
       "      <th>Graduate</th>\n",
       "      <th>Europe</th>\n",
       "      <th>Asia</th>\n",
       "      <th>Africa</th>\n",
       "      <th>Oceania</th>\n",
       "      <th>Americas</th>\n",
       "      <th>...</th>\n",
       "      <th>Two_or_More</th>\n",
       "      <th>Median_Income</th>\n",
       "      <th>Unemployment</th>\n",
       "      <th>Population</th>\n",
       "      <th>Nursery_Pre-School</th>\n",
       "      <th>Kindergarten</th>\n",
       "      <th>1st_4th</th>\n",
       "      <th>5th_8th</th>\n",
       "      <th>9th_12th</th>\n",
       "      <th>Violent_Crime</th>\n",
       "    </tr>\n",
       "  </thead>\n",
       "  <tbody>\n",
       "    <tr>\n",
       "      <th>0</th>\n",
       "      <td>101</td>\n",
       "      <td>356</td>\n",
       "      <td>306</td>\n",
       "      <td>114</td>\n",
       "      <td>47</td>\n",
       "      <td>NaN</td>\n",
       "      <td>0</td>\n",
       "      <td>0</td>\n",
       "      <td>0</td>\n",
       "      <td>0</td>\n",
       "      <td>...</td>\n",
       "      <td>18</td>\n",
       "      <td>30027</td>\n",
       "      <td>56</td>\n",
       "      <td>1293</td>\n",
       "      <td>30</td>\n",
       "      <td>16</td>\n",
       "      <td>72</td>\n",
       "      <td>47</td>\n",
       "      <td>87</td>\n",
       "      <td>2.0</td>\n",
       "    </tr>\n",
       "    <tr>\n",
       "      <th>1</th>\n",
       "      <td>440</td>\n",
       "      <td>1874</td>\n",
       "      <td>3645</td>\n",
       "      <td>4032</td>\n",
       "      <td>1952</td>\n",
       "      <td>NaN</td>\n",
       "      <td>304</td>\n",
       "      <td>35</td>\n",
       "      <td>0</td>\n",
       "      <td>0</td>\n",
       "      <td>...</td>\n",
       "      <td>664</td>\n",
       "      <td>41408</td>\n",
       "      <td>251</td>\n",
       "      <td>17861</td>\n",
       "      <td>424</td>\n",
       "      <td>91</td>\n",
       "      <td>1282</td>\n",
       "      <td>995</td>\n",
       "      <td>1277</td>\n",
       "      <td>61.0</td>\n",
       "    </tr>\n",
       "    <tr>\n",
       "      <th>2</th>\n",
       "      <td>569</td>\n",
       "      <td>2175</td>\n",
       "      <td>4568</td>\n",
       "      <td>8676</td>\n",
       "      <td>7548</td>\n",
       "      <td>NaN</td>\n",
       "      <td>1115</td>\n",
       "      <td>130</td>\n",
       "      <td>0</td>\n",
       "      <td>0</td>\n",
       "      <td>...</td>\n",
       "      <td>380</td>\n",
       "      <td>51604</td>\n",
       "      <td>390</td>\n",
       "      <td>34163</td>\n",
       "      <td>800</td>\n",
       "      <td>615</td>\n",
       "      <td>2188</td>\n",
       "      <td>2019</td>\n",
       "      <td>2019</td>\n",
       "      <td>30.0</td>\n",
       "    </tr>\n",
       "    <tr>\n",
       "      <th>3</th>\n",
       "      <td>870</td>\n",
       "      <td>1928</td>\n",
       "      <td>1858</td>\n",
       "      <td>829</td>\n",
       "      <td>485</td>\n",
       "      <td>NaN</td>\n",
       "      <td>58</td>\n",
       "      <td>0</td>\n",
       "      <td>0</td>\n",
       "      <td>0</td>\n",
       "      <td>...</td>\n",
       "      <td>163</td>\n",
       "      <td>23957</td>\n",
       "      <td>351</td>\n",
       "      <td>8864</td>\n",
       "      <td>52</td>\n",
       "      <td>118</td>\n",
       "      <td>380</td>\n",
       "      <td>498</td>\n",
       "      <td>532</td>\n",
       "      <td>82.0</td>\n",
       "    </tr>\n",
       "    <tr>\n",
       "      <th>4</th>\n",
       "      <td>20165</td>\n",
       "      <td>41444</td>\n",
       "      <td>45946</td>\n",
       "      <td>23616</td>\n",
       "      <td>14262</td>\n",
       "      <td>NaN</td>\n",
       "      <td>2070</td>\n",
       "      <td>811</td>\n",
       "      <td>0</td>\n",
       "      <td>0</td>\n",
       "      <td>...</td>\n",
       "      <td>3321</td>\n",
       "      <td>21459</td>\n",
       "      <td>10574</td>\n",
       "      <td>212021</td>\n",
       "      <td>3157</td>\n",
       "      <td>3117</td>\n",
       "      <td>9722</td>\n",
       "      <td>8240</td>\n",
       "      <td>8638</td>\n",
       "      <td>4025.0</td>\n",
       "    </tr>\n",
       "  </tbody>\n",
       "</table>\n",
       "<p>5 rows × 34 columns</p>\n",
       "</div>"
      ],
      "text/plain": [
       "    None  High_School  Associates  Bachelors  Graduate  Europe  Asia  Africa  \\\n",
       "0    101          356         306        114        47     NaN     0       0   \n",
       "1    440         1874        3645       4032      1952     NaN   304      35   \n",
       "2    569         2175        4568       8676      7548     NaN  1115     130   \n",
       "3    870         1928        1858        829       485     NaN    58       0   \n",
       "4  20165        41444       45946      23616     14262     NaN  2070     811   \n",
       "\n",
       "   Oceania  Americas  ...  Two_or_More  Median_Income  Unemployment  \\\n",
       "0        0         0  ...           18          30027            56   \n",
       "1        0         0  ...          664          41408           251   \n",
       "2        0         0  ...          380          51604           390   \n",
       "3        0         0  ...          163          23957           351   \n",
       "4        0         0  ...         3321          21459         10574   \n",
       "\n",
       "   Population  Nursery_Pre-School  Kindergarten  1st_4th  5th_8th  9th_12th  \\\n",
       "0        1293                  30            16       72       47        87   \n",
       "1       17861                 424            91     1282      995      1277   \n",
       "2       34163                 800           615     2188     2019      2019   \n",
       "3        8864                  52           118      380      498       532   \n",
       "4      212021                3157          3117     9722     8240      8638   \n",
       "\n",
       "   Violent_Crime  \n",
       "0            2.0  \n",
       "1           61.0  \n",
       "2           30.0  \n",
       "3           82.0  \n",
       "4         4025.0  \n",
       "\n",
       "[5 rows x 34 columns]"
      ]
     },
     "execution_count": 87,
     "metadata": {},
     "output_type": "execute_result"
    }
   ],
   "source": [
    "data = pd.read_csv('full_data.csv')\n",
    "data.head()"
   ]
  },
  {
   "cell_type": "code",
   "execution_count": 88,
   "metadata": {},
   "outputs": [
    {
     "data": {
      "text/plain": [
       "Index(['None', 'High_School', 'Associates', 'Bachelors', 'Graduate', 'Europe',\n",
       "       'Asia', 'Africa', 'Oceania', 'Americas', 'Never_Married', 'Married',\n",
       "       'Divorced', 'Separated', 'Widowed', 'Female', 'Male', 'Black',\n",
       "       'American_Indian_Alaskan_Native', 'Asian',\n",
       "       'Native_Hawaiian_Pacific_Islander', 'Hispanic_Latino', 'White', 'Other',\n",
       "       'Two_or_More', 'Median_Income', 'Unemployment', 'Population',\n",
       "       'Nursery_Pre-School', 'Kindergarten', '1st_4th', '5th_8th', '9th_12th',\n",
       "       'Violent_Crime'],\n",
       "      dtype='object')"
      ]
     },
     "execution_count": 88,
     "metadata": {},
     "output_type": "execute_result"
    }
   ],
   "source": [
    "data.columns"
   ]
  },
  {
   "cell_type": "code",
   "execution_count": 89,
   "metadata": {
    "scrolled": true
   },
   "outputs": [
    {
     "data": {
      "text/html": [
       "<div>\n",
       "<style scoped>\n",
       "    .dataframe tbody tr th:only-of-type {\n",
       "        vertical-align: middle;\n",
       "    }\n",
       "\n",
       "    .dataframe tbody tr th {\n",
       "        vertical-align: top;\n",
       "    }\n",
       "\n",
       "    .dataframe thead th {\n",
       "        text-align: right;\n",
       "    }\n",
       "</style>\n",
       "<table border=\"1\" class=\"dataframe\">\n",
       "  <thead>\n",
       "    <tr style=\"text-align: right;\">\n",
       "      <th></th>\n",
       "      <th>No_Degree</th>\n",
       "      <th>High_School</th>\n",
       "      <th>Associates</th>\n",
       "      <th>Bachelors</th>\n",
       "      <th>Graduate</th>\n",
       "      <th>Europe</th>\n",
       "      <th>Asia</th>\n",
       "      <th>Africa</th>\n",
       "      <th>Oceania</th>\n",
       "      <th>Americas</th>\n",
       "      <th>...</th>\n",
       "      <th>Two_or_More</th>\n",
       "      <th>Median_Income</th>\n",
       "      <th>Unemployment</th>\n",
       "      <th>Population</th>\n",
       "      <th>Nursery_Pre-School</th>\n",
       "      <th>Kindergarten</th>\n",
       "      <th>1st_4th</th>\n",
       "      <th>5th_8th</th>\n",
       "      <th>9th_12th</th>\n",
       "      <th>Violent_Crime</th>\n",
       "    </tr>\n",
       "  </thead>\n",
       "  <tbody>\n",
       "    <tr>\n",
       "      <th>0</th>\n",
       "      <td>101</td>\n",
       "      <td>356</td>\n",
       "      <td>306</td>\n",
       "      <td>114</td>\n",
       "      <td>47</td>\n",
       "      <td>0.0</td>\n",
       "      <td>0</td>\n",
       "      <td>0</td>\n",
       "      <td>0</td>\n",
       "      <td>0</td>\n",
       "      <td>...</td>\n",
       "      <td>18</td>\n",
       "      <td>30027</td>\n",
       "      <td>56</td>\n",
       "      <td>1293</td>\n",
       "      <td>30</td>\n",
       "      <td>16</td>\n",
       "      <td>72</td>\n",
       "      <td>47</td>\n",
       "      <td>87</td>\n",
       "      <td>2.0</td>\n",
       "    </tr>\n",
       "    <tr>\n",
       "      <th>1</th>\n",
       "      <td>440</td>\n",
       "      <td>1874</td>\n",
       "      <td>3645</td>\n",
       "      <td>4032</td>\n",
       "      <td>1952</td>\n",
       "      <td>0.0</td>\n",
       "      <td>304</td>\n",
       "      <td>35</td>\n",
       "      <td>0</td>\n",
       "      <td>0</td>\n",
       "      <td>...</td>\n",
       "      <td>664</td>\n",
       "      <td>41408</td>\n",
       "      <td>251</td>\n",
       "      <td>17861</td>\n",
       "      <td>424</td>\n",
       "      <td>91</td>\n",
       "      <td>1282</td>\n",
       "      <td>995</td>\n",
       "      <td>1277</td>\n",
       "      <td>61.0</td>\n",
       "    </tr>\n",
       "    <tr>\n",
       "      <th>2</th>\n",
       "      <td>569</td>\n",
       "      <td>2175</td>\n",
       "      <td>4568</td>\n",
       "      <td>8676</td>\n",
       "      <td>7548</td>\n",
       "      <td>0.0</td>\n",
       "      <td>1115</td>\n",
       "      <td>130</td>\n",
       "      <td>0</td>\n",
       "      <td>0</td>\n",
       "      <td>...</td>\n",
       "      <td>380</td>\n",
       "      <td>51604</td>\n",
       "      <td>390</td>\n",
       "      <td>34163</td>\n",
       "      <td>800</td>\n",
       "      <td>615</td>\n",
       "      <td>2188</td>\n",
       "      <td>2019</td>\n",
       "      <td>2019</td>\n",
       "      <td>30.0</td>\n",
       "    </tr>\n",
       "    <tr>\n",
       "      <th>3</th>\n",
       "      <td>870</td>\n",
       "      <td>1928</td>\n",
       "      <td>1858</td>\n",
       "      <td>829</td>\n",
       "      <td>485</td>\n",
       "      <td>0.0</td>\n",
       "      <td>58</td>\n",
       "      <td>0</td>\n",
       "      <td>0</td>\n",
       "      <td>0</td>\n",
       "      <td>...</td>\n",
       "      <td>163</td>\n",
       "      <td>23957</td>\n",
       "      <td>351</td>\n",
       "      <td>8864</td>\n",
       "      <td>52</td>\n",
       "      <td>118</td>\n",
       "      <td>380</td>\n",
       "      <td>498</td>\n",
       "      <td>532</td>\n",
       "      <td>82.0</td>\n",
       "    </tr>\n",
       "    <tr>\n",
       "      <th>4</th>\n",
       "      <td>20165</td>\n",
       "      <td>41444</td>\n",
       "      <td>45946</td>\n",
       "      <td>23616</td>\n",
       "      <td>14262</td>\n",
       "      <td>0.0</td>\n",
       "      <td>2070</td>\n",
       "      <td>811</td>\n",
       "      <td>0</td>\n",
       "      <td>0</td>\n",
       "      <td>...</td>\n",
       "      <td>3321</td>\n",
       "      <td>21459</td>\n",
       "      <td>10574</td>\n",
       "      <td>212021</td>\n",
       "      <td>3157</td>\n",
       "      <td>3117</td>\n",
       "      <td>9722</td>\n",
       "      <td>8240</td>\n",
       "      <td>8638</td>\n",
       "      <td>4025.0</td>\n",
       "    </tr>\n",
       "  </tbody>\n",
       "</table>\n",
       "<p>5 rows × 34 columns</p>\n",
       "</div>"
      ],
      "text/plain": [
       "   No_Degree  High_School  Associates  Bachelors  Graduate  Europe  Asia  \\\n",
       "0        101          356         306        114        47     0.0     0   \n",
       "1        440         1874        3645       4032      1952     0.0   304   \n",
       "2        569         2175        4568       8676      7548     0.0  1115   \n",
       "3        870         1928        1858        829       485     0.0    58   \n",
       "4      20165        41444       45946      23616     14262     0.0  2070   \n",
       "\n",
       "   Africa  Oceania  Americas  ...  Two_or_More  Median_Income  Unemployment  \\\n",
       "0       0        0         0  ...           18          30027            56   \n",
       "1      35        0         0  ...          664          41408           251   \n",
       "2     130        0         0  ...          380          51604           390   \n",
       "3       0        0         0  ...          163          23957           351   \n",
       "4     811        0         0  ...         3321          21459         10574   \n",
       "\n",
       "   Population  Nursery_Pre-School  Kindergarten  1st_4th  5th_8th  9th_12th  \\\n",
       "0        1293                  30            16       72       47        87   \n",
       "1       17861                 424            91     1282      995      1277   \n",
       "2       34163                 800           615     2188     2019      2019   \n",
       "3        8864                  52           118      380      498       532   \n",
       "4      212021                3157          3117     9722     8240      8638   \n",
       "\n",
       "   Violent_Crime  \n",
       "0            2.0  \n",
       "1           61.0  \n",
       "2           30.0  \n",
       "3           82.0  \n",
       "4         4025.0  \n",
       "\n",
       "[5 rows x 34 columns]"
      ]
     },
     "execution_count": 89,
     "metadata": {},
     "output_type": "execute_result"
    }
   ],
   "source": [
    "data.rename(columns={\"None\":\"No_Degree\"},inplace=True)\n",
    "data.fillna(0,inplace=True)\n",
    "data.head()"
   ]
  },
  {
   "cell_type": "code",
   "execution_count": 90,
   "metadata": {},
   "outputs": [
    {
     "data": {
      "text/plain": [
       "Index(['No_Degree', 'High_School', 'Associates', 'Bachelors', 'Graduate',\n",
       "       'Europe', 'Asia', 'Africa', 'Oceania', 'Americas', 'Never_Married',\n",
       "       'Married', 'Divorced', 'Separated', 'Widowed', 'Female', 'Male',\n",
       "       'Black', 'American_Indian_Alaskan_Native', 'Asian',\n",
       "       'Native_Hawaiian_Pacific_Islander', 'Hispanic_Latino', 'White', 'Other',\n",
       "       'Two_or_More', 'Median_Income', 'Unemployment', 'Population',\n",
       "       'Nursery_Pre-School', 'Kindergarten', '1st_4th', '5th_8th', '9th_12th',\n",
       "       'Violent_Crime'],\n",
       "      dtype='object')"
      ]
     },
     "execution_count": 90,
     "metadata": {},
     "output_type": "execute_result"
    }
   ],
   "source": [
    "data.columns"
   ]
  },
  {
   "cell_type": "code",
   "execution_count": 124,
   "metadata": {},
   "outputs": [
    {
     "name": "stdout",
     "output_type": "stream",
     "text": [
      "(6265, 13) (6265, 1)\n"
     ]
    }
   ],
   "source": [
    "# X = data[['No_Degree', 'High_School', 'Associates', 'Bachelors', 'Graduate',\n",
    "#        'Europe', 'Asia', 'Africa', 'Oceania', 'Americas', 'Never_Married',\n",
    "#        'Married', 'Divorced', 'Separated', 'Widowed', 'Female', 'Male',\n",
    "#        'Black', 'American_Indian_Alaskan_Native', 'Asian',\n",
    "#        'Native_Hawaiian_Pacific_Islander', 'Hispanic_Latino', 'White', 'Other',\n",
    "#        'Two_or_More', 'Median_Income', 'Unemployment', 'Population',\n",
    "#        'Nursery_Pre-School', 'Kindergarten', '1st_4th', '5th_8th', '9th_12th']]\n",
    "\n",
    "X = data[['No_Degree', 'High_School', 'Associates', 'Bachelors', 'Graduate',\n",
    "       'Never_Married',\n",
    "       'Married', 'Divorced', 'Separated', 'Widowed', 'Female', 'Male',\n",
    "       'Hispanic_Latino']]\n",
    "\n",
    "y=data[\"Violent_Crime\"].values.reshape(-1, 1)\n",
    "print(X.shape, y.shape)"
   ]
  },
  {
   "cell_type": "code",
   "execution_count": 125,
   "metadata": {},
   "outputs": [],
   "source": [
    "# Use train_test_split to create training and testing data\n",
    "#75% train, 25% test\n",
    "\n",
    "### BEGIN SOLUTION\n",
    "from sklearn.model_selection import train_test_split\n",
    "\n",
    "X_train, X_test, y_train, y_test = train_test_split(X, y,test_size=0.25, random_state=42)\n",
    "\n",
    "### END SOLUTION"
   ]
  },
  {
   "cell_type": "code",
   "execution_count": 126,
   "metadata": {},
   "outputs": [],
   "source": [
    "#Standardize\n",
    "from sklearn.preprocessing import StandardScaler\n",
    "\n",
    "# Create a StandardScater model and fit it to the training data\n",
    "\n",
    "### BEGIN SOLUTION\n",
    "X_scaler = StandardScaler().fit(X_train)\n",
    "y_scaler = StandardScaler().fit(y_train)\n",
    "### END SOLUTION"
   ]
  },
  {
   "cell_type": "code",
   "execution_count": 127,
   "metadata": {},
   "outputs": [],
   "source": [
    "# Transform the training and testing data using the X_scaler and y_scaler models\n",
    "\n",
    "### BEGIN SOLUTION\n",
    "X_train_scaled = X_scaler.transform(X_train)\n",
    "X_test_scaled = X_scaler.transform(X_test)\n",
    "y_train_scaled = y_scaler.transform(y_train)\n",
    "y_test_scaled = y_scaler.transform(y_test)\n",
    "### END SOLUTION"
   ]
  },
  {
   "cell_type": "code",
   "execution_count": 128,
   "metadata": {},
   "outputs": [],
   "source": [
    "# Create the model using LinearRegression\n",
    "\n",
    "### BEGIN SOLUTION\n",
    "from sklearn.linear_model import LinearRegression\n",
    "model = LinearRegression()\n",
    "### END SOLUTION"
   ]
  },
  {
   "cell_type": "code",
   "execution_count": 129,
   "metadata": {},
   "outputs": [
    {
     "name": "stdout",
     "output_type": "stream",
     "text": [
      "Training Score: 0.9619234627097402\n",
      "Testing Score: 0.9308324319356165\n"
     ]
    }
   ],
   "source": [
    "# Fit the model to the training data and calculate the scores for the training and testing data\n",
    "\n",
    "### BEGIN SOLUTION\n",
    "model.fit(X_train_scaled, y_train_scaled)\n",
    "training_score = model.score(X_train_scaled, y_train_scaled)\n",
    "testing_score = model.score(X_test_scaled, y_test_scaled)\n",
    "\n",
    "### END SOLUTION \n",
    "\n",
    "print(f\"Training Score: {training_score}\")\n",
    "print(f\"Testing Score: {testing_score}\")"
   ]
  },
  {
   "cell_type": "code",
   "execution_count": 130,
   "metadata": {},
   "outputs": [
    {
     "data": {
      "text/plain": [
       "Text(0.5, 1.0, 'Residual Plot')"
      ]
     },
     "execution_count": 130,
     "metadata": {},
     "output_type": "execute_result"
    },
    {
     "data": {
      "image/png": "[encoded data removed]",
      "text/plain": [
       "<Figure size 432x288 with 1 Axes>"
      ]
     },
     "metadata": {
      "needs_background": "light"
     },
     "output_type": "display_data"
    }
   ],
   "source": [
    "# Plot the Residuals for the Training and Testing data\n",
    "\n",
    "### BEGIN SOLUTION\n",
    "plt.scatter(model.predict(X_train_scaled), model.predict(X_train_scaled) - y_train_scaled, c=\"blue\", label=\"Training Data\")\n",
    "plt.scatter(model.predict(X_test_scaled), model.predict(X_test_scaled) - y_test_scaled, c=\"orange\", label=\"Testing Data\")\n",
    "plt.legend()\n",
    "plt.hlines(y=0, xmin=y.min(), xmax=y_train_scaled.max())\n",
    "plt.title(\"Residual Plot\")\n",
    "### END SOLUTION"
   ]
  },
  {
   "cell_type": "code",
   "execution_count": 131,
   "metadata": {},
   "outputs": [
    {
     "data": {
      "text/plain": [
       "['No_Degree',\n",
       " 'High_School',\n",
       " 'Associates',\n",
       " 'Bachelors',\n",
       " 'Graduate',\n",
       " 'Never_Married',\n",
       " 'Married',\n",
       " 'Divorced',\n",
       " 'Separated',\n",
       " 'Widowed',\n",
       " 'Female',\n",
       " 'Male',\n",
       " 'Hispanic_Latino']"
      ]
     },
     "execution_count": 131,
     "metadata": {},
     "output_type": "execute_result"
    }
   ],
   "source": [
    "coef=model.coef_\n",
    "col = X.columns.tolist()\n",
    "\n",
    "col"
   ]
  },
  {
   "cell_type": "code",
   "execution_count": 132,
   "metadata": {},
   "outputs": [],
   "source": [
    "coef=coef[0]"
   ]
  },
  {
   "cell_type": "code",
   "execution_count": 133,
   "metadata": {},
   "outputs": [],
   "source": [
    "coefs = pd.DataFrame(coef,columns=[\"Coefficients\"], index=col)"
   ]
  },
  {
   "cell_type": "code",
   "execution_count": 134,
   "metadata": {},
   "outputs": [
    {
     "data": {
      "text/html": [
       "<div>\n",
       "<style scoped>\n",
       "    .dataframe tbody tr th:only-of-type {\n",
       "        vertical-align: middle;\n",
       "    }\n",
       "\n",
       "    .dataframe tbody tr th {\n",
       "        vertical-align: top;\n",
       "    }\n",
       "\n",
       "    .dataframe thead th {\n",
       "        text-align: right;\n",
       "    }\n",
       "</style>\n",
       "<table border=\"1\" class=\"dataframe\">\n",
       "  <thead>\n",
       "    <tr style=\"text-align: right;\">\n",
       "      <th></th>\n",
       "      <th>Coefficients</th>\n",
       "    </tr>\n",
       "  </thead>\n",
       "  <tbody>\n",
       "    <tr>\n",
       "      <th>No_Degree</th>\n",
       "      <td>0.959757</td>\n",
       "    </tr>\n",
       "    <tr>\n",
       "      <th>High_School</th>\n",
       "      <td>0.436933</td>\n",
       "    </tr>\n",
       "    <tr>\n",
       "      <th>Associates</th>\n",
       "      <td>1.049951</td>\n",
       "    </tr>\n",
       "    <tr>\n",
       "      <th>Bachelors</th>\n",
       "      <td>0.078342</td>\n",
       "    </tr>\n",
       "    <tr>\n",
       "      <th>Graduate</th>\n",
       "      <td>1.195837</td>\n",
       "    </tr>\n",
       "    <tr>\n",
       "      <th>Never_Married</th>\n",
       "      <td>-3.559373</td>\n",
       "    </tr>\n",
       "    <tr>\n",
       "      <th>Married</th>\n",
       "      <td>-6.142163</td>\n",
       "    </tr>\n",
       "    <tr>\n",
       "      <th>Divorced</th>\n",
       "      <td>-0.396110</td>\n",
       "    </tr>\n",
       "    <tr>\n",
       "      <th>Separated</th>\n",
       "      <td>-0.745881</td>\n",
       "    </tr>\n",
       "    <tr>\n",
       "      <th>Widowed</th>\n",
       "      <td>0.199257</td>\n",
       "    </tr>\n",
       "    <tr>\n",
       "      <th>Female</th>\n",
       "      <td>2.920568</td>\n",
       "    </tr>\n",
       "    <tr>\n",
       "      <th>Male</th>\n",
       "      <td>5.067889</td>\n",
       "    </tr>\n",
       "    <tr>\n",
       "      <th>Hispanic_Latino</th>\n",
       "      <td>-0.110863</td>\n",
       "    </tr>\n",
       "  </tbody>\n",
       "</table>\n",
       "</div>"
      ],
      "text/plain": [
       "                 Coefficients\n",
       "No_Degree            0.959757\n",
       "High_School          0.436933\n",
       "Associates           1.049951\n",
       "Bachelors            0.078342\n",
       "Graduate             1.195837\n",
       "Never_Married       -3.559373\n",
       "Married             -6.142163\n",
       "Divorced            -0.396110\n",
       "Separated           -0.745881\n",
       "Widowed              0.199257\n",
       "Female               2.920568\n",
       "Male                 5.067889\n",
       "Hispanic_Latino     -0.110863"
      ]
     },
     "execution_count": 134,
     "metadata": {},
     "output_type": "execute_result"
    }
   ],
   "source": [
    "coefs"
   ]
  },
  {
   "cell_type": "code",
   "execution_count": 135,
   "metadata": {},
   "outputs": [
    {
     "data": {
      "image/png": "[encoded data removed]",
      "text/plain": [
       "<Figure size 648x504 with 1 Axes>"
      ]
     },
     "metadata": {
      "needs_background": "light"
     },
     "output_type": "display_data"
    }
   ],
   "source": [
    "coefs.plot(kind='barh', figsize=(9, 7))\n",
    "plt.title('Ridge model, small regularization')\n",
    "plt.axvline(x=0, color='.5')\n",
    "plt.subplots_adjust(left=.3)"
   ]
  },
  {
   "cell_type": "code",
   "execution_count": 136,
   "metadata": {
    "scrolled": true
   },
   "outputs": [],
   "source": [
    "standard=X_train_scaled.std()\n",
    "coef_std = standard*coef\n",
    "coef_std =pd.DataFrame(coef_std,columns=[\"Coefficients\"], index=col)"
   ]
  },
  {
   "cell_type": "code",
   "execution_count": 137,
   "metadata": {},
   "outputs": [
    {
     "data": {
      "image/png": "[encoded data removed]",
      "text/plain": [
       "<Figure size 648x504 with 1 Axes>"
      ]
     },
     "metadata": {
      "needs_background": "light"
     },
     "output_type": "display_data"
    }
   ],
   "source": [
    "coef_std.plot(kind='barh', figsize=(9, 7))\n",
    "plt.title('Features std. dev.')\n",
    "plt.subplots_adjust(left=.3)"
   ]
  },
  {
   "cell_type": "code",
   "execution_count": null,
   "metadata": {},
   "outputs": [],
   "source": []
  },
  {
   "cell_type": "code",
   "execution_count": 138,
   "metadata": {},
   "outputs": [
    {
     "data": {
      "text/plain": [
       "array([0.87846905, 0.95593691, 0.92914537])"
      ]
     },
     "execution_count": 138,
     "metadata": {},
     "output_type": "execute_result"
    }
   ],
   "source": [
    "from sklearn.model_selection import cross_val_score\n",
    "scores = cross_val_score(model, X_test_scaled, y_test_scaled, cv=3)\n",
    "scores"
   ]
  },
  {
   "cell_type": "code",
   "execution_count": 139,
   "metadata": {},
   "outputs": [
    {
     "name": "stdout",
     "output_type": "stream",
     "text": [
      "0.92 accuracy with a standard deviation of 0.03\n"
     ]
    }
   ],
   "source": [
    "print(\"%0.2f accuracy with a standard deviation of %0.2f\" % (scores.mean(), scores.std()))"
   ]
  },
  {
   "cell_type": "code",
   "execution_count": null,
   "metadata": {},
   "outputs": [],
   "source": []
  }
 ],
 "metadata": {
  "kernelspec": {
   "display_name": "Python 3",
   "language": "python",
   "name": "python3"
  }
 },
 "nbformat": 4,
 "nbformat_minor": 4
}
